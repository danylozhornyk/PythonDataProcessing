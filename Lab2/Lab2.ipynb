{
 "cells": [
  {
   "cell_type": "markdown",
   "id": "a99a9404-9fa8-45f2-bcbb-6225cbbbc325",
   "metadata": {},
   "source": [
    "# Лабораторна робота №2\n",
    "## виконав \n",
    "## Жорник Данило \n",
    "## студент групи КН-223с\n"
   ]
  },
  {
   "cell_type": "code",
   "execution_count": 2,
   "id": "6f5c1675-84bd-47ea-936a-3c69a77cbd38",
   "metadata": {},
   "outputs": [
    {
     "name": "stdout",
     "output_type": "stream",
     "text": [
      "1\n"
     ]
    }
   ],
   "source": [
    "N = ( 6 + 4 ) % 5 + 1\n",
    "print(N)"
   ]
  },
  {
   "cell_type": "markdown",
   "id": "01f4222e-3c6a-4561-a44d-2cf279c526ea",
   "metadata": {},
   "source": [
    "## Варіант 1\n",
    "### Завдання 1, 2, 3, 5, 10, 11, 12, 13, 14, 15, 16, 17, 18, 21, 22, 23, 24, 26\n"
   ]
  },
  {
   "cell_type": "markdown",
   "id": "f5823eb6-0af1-42e1-a757-5ef2c5379785",
   "metadata": {},
   "source": [
    "\n",
    "### Завдання 1\n",
    "Виведіть перші 8 рядків набору даних."
   ]
  },
  {
   "cell_type": "code",
   "execution_count": 2,
   "id": "32db9c83-bdb2-497f-9917-1097395fce16",
   "metadata": {},
   "outputs": [
    {
     "name": "stdout",
     "output_type": "stream",
     "text": [
      "   Id       Name  Year Gender  Count\n",
      "0   1       Mary  1880      F   7065\n",
      "1   2       Anna  1880      F   2604\n",
      "2   3       Emma  1880      F   2003\n",
      "3   4  Elizabeth  1880      F   1939\n",
      "4   5     Minnie  1880      F   1746\n",
      "5   6   Margaret  1880      F   1578\n",
      "6   7        Ida  1880      F   1472\n",
      "7   8      Alice  1880      F   1414\n"
     ]
    }
   ],
   "source": [
    "import pandas as pd\n",
    "\n",
    "df = pd.read_csv('NationalNames.csv')\n",
    "print(df.head(8))"
   ]
  },
  {
   "cell_type": "markdown",
   "id": "a45b7391-e3a5-4eac-9672-57a8b8d0cde8",
   "metadata": {},
   "source": [
    "\n",
    "### Завдання 2\n",
    "Вивести останні 8 рядків набору даних."
   ]
  },
  {
   "cell_type": "code",
   "execution_count": 14,
   "id": "fd0d3acf-f361-4fb4-9c1e-1957dbc58ce4",
   "metadata": {},
   "outputs": [
    {
     "name": "stdout",
     "output_type": "stream",
     "text": [
      "              Id     Name  Year Gender  Count\n",
      "1825425  1825426       Zo  2014      M      5\n",
      "1825426  1825427    Zyeir  2014      M      5\n",
      "1825427  1825428     Zyel  2014      M      5\n",
      "1825428  1825429   Zykeem  2014      M      5\n",
      "1825429  1825430   Zymeer  2014      M      5\n",
      "1825430  1825431  Zymiere  2014      M      5\n",
      "1825431  1825432    Zyran  2014      M      5\n",
      "1825432  1825433    Zyrin  2014      M      5\n"
     ]
    }
   ],
   "source": [
    "print(df.tail(8))"
   ]
  },
  {
   "cell_type": "markdown",
   "id": "c61d5d44-23d0-420b-8841-8bb1bf2a3864",
   "metadata": {},
   "source": [
    "\n",
    "### Завдання 3\n",
    "Отримайте імена стовпців набору даних"
   ]
  },
  {
   "cell_type": "code",
   "execution_count": 15,
   "id": "00b8f19e-e3b5-44c4-8bb9-b41781899a62",
   "metadata": {},
   "outputs": [
    {
     "name": "stdout",
     "output_type": "stream",
     "text": [
      "Index(['Id', 'Name', 'Year', 'Gender', 'Count'], dtype='object')\n"
     ]
    }
   ],
   "source": [
    "print(df.columns)"
   ]
  },
  {
   "cell_type": "markdown",
   "id": "484e25d6-b505-4870-a917-af9276c99947",
   "metadata": {},
   "source": [
    "\n",
    "### Завдання 5\n",
    "Знайдіть кількість унікальних імен у наборі даних"
   ]
  },
  {
   "cell_type": "code",
   "execution_count": 16,
   "id": "1ade9ca9-2308-4ae6-aeee-7ac1a181cd8e",
   "metadata": {},
   "outputs": [
    {
     "name": "stdout",
     "output_type": "stream",
     "text": [
      "Кількість унікальних імен: 93889\n"
     ]
    }
   ],
   "source": [
    "unique_names_count = df['Name'].nunique()\n",
    "print(f\"Кількість унікальних імен: {unique_names_count}\")"
   ]
  },
  {
   "cell_type": "markdown",
   "id": "096e69ad-8fa9-453d-ba7e-0b2d0baab8e2",
   "metadata": {},
   "source": [
    "\n",
    "### Завдання 10\n",
    "Підрахуйте кількість унікальних імен у кожному році\n"
   ]
  },
  {
   "cell_type": "code",
   "execution_count": 17,
   "id": "93ab483c-3ac4-42b7-ae1f-15579dffc40a",
   "metadata": {},
   "outputs": [
    {
     "name": "stdout",
     "output_type": "stream",
     "text": [
      "     Year  Unique Names\n",
      "0    1880          1889\n",
      "1    1881          1830\n",
      "2    1882          2012\n",
      "3    1883          1962\n",
      "4    1884          2158\n",
      "..    ...           ...\n",
      "130  2010         31603\n",
      "131  2011         31418\n",
      "132  2012         31236\n",
      "133  2013         30774\n",
      "134  2014         30579\n",
      "\n",
      "[135 rows x 2 columns]\n"
     ]
    }
   ],
   "source": [
    "unique_names_per_year = df.groupby('Year')['Name'].nunique()\n",
    "result_df = unique_names_per_year.reset_index(name='Unique Names')\n",
    "print(result_df)"
   ]
  },
  {
   "cell_type": "markdown",
   "id": "1a1c48cc-4957-4464-a840-c794ea23f5bd",
   "metadata": {},
   "source": [
    "\n",
    "### Завдання 11\n",
    "Знайдіть рік із найбільшою кількістю унікальних імен.\n"
   ]
  },
  {
   "cell_type": "code",
   "execution_count": 18,
   "id": "8d3f9ade-148a-48ee-99eb-109b1a433a9d",
   "metadata": {},
   "outputs": [
    {
     "name": "stdout",
     "output_type": "stream",
     "text": [
      "Рік із найбільшою кількістю унікальних імен: 2008\n"
     ]
    }
   ],
   "source": [
    "unique_names_per_year = df.groupby('Year')['Name'].nunique()\n",
    "year_with_most_unique_names = unique_names_per_year.idxmax()  # Отримуємо рік\n",
    "print(f\"Рік із найбільшою кількістю унікальних імен: {year_with_most_unique_names}\")"
   ]
  },
  {
   "cell_type": "markdown",
   "id": "141e32d4-9ae8-431d-8ff9-a290fd4bbede",
   "metadata": {},
   "source": [
    "\n",
    "### Завдання 12\n",
    "Знайдіть найпопулярніше ім’я в році з найбільшою кількістю унікальних \n",
    "імен (тобто у 2008 році)"
   ]
  },
  {
   "cell_type": "code",
   "execution_count": 19,
   "id": "8f97fd3e-3544-4961-8aec-2d7891551040",
   "metadata": {},
   "outputs": [
    {
     "name": "stdout",
     "output_type": "stream",
     "text": [
      "Найпопулярніше ім'я у 2008 році: Jacob\n"
     ]
    }
   ],
   "source": [
    "most_popular_name = df[df['Year'] == year_with_most_unique_names].groupby('Name')['Count'].sum().idxmax()\n",
    "print(f\"Найпопулярніше ім'я у {year_with_most_unique_names} році: {most_popular_name}\")"
   ]
  },
  {
   "cell_type": "markdown",
   "id": "5e93022d-f823-45ac-b990-334bebff3660",
   "metadata": {},
   "source": [
    "\n",
    "### Завдання 13\n",
    "Знайдіть рік, коли ім’я “Jacob” було найпопулярнішим серед жіночих \n",
    "імен"
   ]
  },
  {
   "cell_type": "code",
   "execution_count": 20,
   "id": "32ac9e85-d12f-4d47-99c4-af63578d2659",
   "metadata": {},
   "outputs": [
    {
     "name": "stdout",
     "output_type": "stream",
     "text": [
      "Рік, коли ім'я Jacob було найпопулярнішим серед дівчат: 2004\n"
     ]
    }
   ],
   "source": [
    "jacob_female = df[(df['Name'] == 'Jacob') & (df['Gender'] == 'F')]\n",
    "year_jacob_female_most_popular = jacob_female.groupby('Year')['Count'].sum().idxmax()\n",
    "print(f\"Рік, коли ім'я Jacob було найпопулярнішим серед дівчат: {year_jacob_female_most_popular}\")"
   ]
  },
  {
   "cell_type": "markdown",
   "id": "ea9ecda9-28d4-4f7d-8b81-bdca9f3a0046",
   "metadata": {},
   "source": [
    "\n",
    "### Завдання 14\n",
    "Знайти рік із найбільшою кількістю гендерно нейтральних імен (однакові \n",
    "чоловічі та жіночі імена)\n"
   ]
  },
  {
   "cell_type": "code",
   "execution_count": 12,
   "id": "70e651c1-2f88-4944-ba34-3a6b17ab3666",
   "metadata": {},
   "outputs": [
    {
     "name": "stdout",
     "output_type": "stream",
     "text": [
      "Рік з найбільшою кількістю нейтральних імен: 2008, Кількість: 2557\n"
     ]
    }
   ],
   "source": [
    "name_gender_count = df.groupby(['Year', 'Name', 'Gender']).size().unstack(fill_value=0)\n",
    "neutral_names_per_year = name_gender_count[(name_gender_count['M'] > 0) & (name_gender_count['F'] > 0)]\n",
    "neutral_names_count_per_year = neutral_names_per_year.groupby(level=0).size()\n",
    "year_with_most_neutral_names = neutral_names_count_per_year.idxmax()\n",
    "max_neutral_names_count = neutral_names_count_per_year.max()\n",
    "print(f\"Рік з найбільшою кількістю нейтральних імен: {year_with_most_neutral_names}, Кількість: {max_neutral_names_count}\")"
   ]
  },
  {
   "cell_type": "markdown",
   "id": "78482f95-8da9-40ed-956f-41fa0fb6b874",
   "metadata": {},
   "source": [
    "\n",
    "### Завдання 15\n",
    "Знайдіть загальну кількість народжень за рік"
   ]
  },
  {
   "cell_type": "code",
   "execution_count": 3,
   "id": "1190864c-7f42-40bb-bb47-73298a471b5c",
   "metadata": {},
   "outputs": [
    {
     "name": "stdout",
     "output_type": "stream",
     "text": [
      "     Year  Total Births\n",
      "0    1880        201484\n",
      "1    1881        192699\n",
      "2    1882        221538\n",
      "3    1883        216950\n",
      "4    1884        243467\n",
      "..    ...           ...\n",
      "130  2010       3686589\n",
      "131  2011       3646730\n",
      "132  2012       3643336\n",
      "133  2013       3626802\n",
      "134  2014       3670151\n",
      "\n",
      "[135 rows x 2 columns]\n"
     ]
    }
   ],
   "source": [
    "total_births_per_year = df.groupby('Year')['Count'].sum()\n",
    "total_births_df = total_births_per_year.reset_index(name='Total Births')\n",
    "print(total_births_df)"
   ]
  },
  {
   "cell_type": "markdown",
   "id": "48559fb3-bf2c-4dda-b2cd-bbf08a16248a",
   "metadata": {},
   "source": [
    "\n",
    "### Завдання 16\n",
    "Знайдіть рік, коли народилося найбільше дітей\n"
   ]
  },
  {
   "cell_type": "code",
   "execution_count": 4,
   "id": "7405d6a1-a5de-4eaa-875d-1da00d5f140c",
   "metadata": {},
   "outputs": [
    {
     "name": "stdout",
     "output_type": "stream",
     "text": [
      "Рік з найбільшою кількістю народжень: 1957\n"
     ]
    }
   ],
   "source": [
    "year_with_most_births = total_births_per_year.idxmax()\n",
    "print(f\"Рік з найбільшою кількістю народжень: {year_with_most_births}\")"
   ]
  },
  {
   "cell_type": "markdown",
   "id": "d9ba66d7-8e60-4b87-a668-ec5efe7e5bf7",
   "metadata": {},
   "source": [
    "\n",
    "### Завдання 17\n",
    "Знайдіть кількість дівчаток та хлопчиків, які народились кожного року"
   ]
  },
  {
   "cell_type": "code",
   "execution_count": 5,
   "id": "77adf405-601c-408e-b3ab-47962bd09e33",
   "metadata": {},
   "outputs": [
    {
     "name": "stdout",
     "output_type": "stream",
     "text": [
      "Gender        F        M\n",
      "Year                    \n",
      "1880      90993   110491\n",
      "1881      91954   100745\n",
      "1882     107850   113688\n",
      "1883     112321   104629\n",
      "1884     129022   114445\n",
      "...         ...      ...\n",
      "2010    1772738  1913851\n",
      "2011    1753500  1893230\n",
      "2012    1753922  1889414\n",
      "2013    1745339  1881463\n",
      "2014    1768775  1901376\n",
      "\n",
      "[135 rows x 2 columns]\n"
     ]
    }
   ],
   "source": [
    "gender_count_per_year = df.groupby(['Year', 'Gender'])['Count'].sum().unstack()\n",
    "print(gender_count_per_year)"
   ]
  },
  {
   "cell_type": "markdown",
   "id": "ee58beee-87e6-4d80-9588-12e31c7f12f7",
   "metadata": {},
   "source": [
    "\n",
    "### Завдання 18\n",
    "Підрахуйте кількість років, коли дівчаток народжувалось більше, ніж \n",
    "хлопчиків."
   ]
  },
  {
   "cell_type": "code",
   "execution_count": 6,
   "id": "a7068ddb-e23b-4260-9ccb-05924a228bf2",
   "metadata": {},
   "outputs": [
    {
     "name": "stdout",
     "output_type": "stream",
     "text": [
      "Кількість років, коли народжувалось більше дівчаток ніж хлопчиків: 54\n"
     ]
    }
   ],
   "source": [
    "years_more_girls_than_boys = (gender_count_per_year['F'] > gender_count_per_year['M']).sum()\n",
    "print(f\"Кількість років, коли народжувалось більше дівчаток ніж хлопчиків: {years_more_girls_than_boys}\")"
   ]
  },
  {
   "cell_type": "markdown",
   "id": "ee5962e7-55e6-4229-afd1-c753c6757567",
   "metadata": {},
   "source": [
    "\n",
    "### Завдання 21\n",
    "Порахуйте, скільки разів хлопчиків називали Barbara"
   ]
  },
  {
   "cell_type": "code",
   "execution_count": 7,
   "id": "2462dc94-9cfd-4d06-bc16-c3bbfd2bedd0",
   "metadata": {},
   "outputs": [
    {
     "name": "stdout",
     "output_type": "stream",
     "text": [
      "Хлопчиків, яких назвали Barbara: 4139\n"
     ]
    }
   ],
   "source": [
    "barbara_boys_count = df[(df['Name'] == 'Barbara') & (df['Gender'] == 'M')]['Count'].sum()\n",
    "print(f\"Хлопчиків, яких назвали Barbara: {barbara_boys_count}\")"
   ]
  },
  {
   "cell_type": "markdown",
   "id": "52bc65c4-a6ce-4ff7-abbd-72523330c657",
   "metadata": {},
   "source": [
    "\n",
    "### Завдання 22\n",
    "Підрахуйте скільки років проводилось спостереження\n"
   ]
  },
  {
   "cell_type": "code",
   "execution_count": 8,
   "id": "cad7582e-6b00-4a9a-9cef-a763f759f409",
   "metadata": {},
   "outputs": [
    {
     "name": "stdout",
     "output_type": "stream",
     "text": [
      "Кількість років спостереження: 135\n"
     ]
    }
   ],
   "source": [
    "observation_years = df['Year'].nunique()\n",
    "print(f\"Кількість років спостереження: {observation_years}\")"
   ]
  },
  {
   "cell_type": "markdown",
   "id": "d373a618-e355-4f44-bf7d-fa7c0c8ad3e5",
   "metadata": {},
   "source": [
    "\n",
    "### Завдання 23\n",
    "Знати найпопулярніші гендерно-нейтральні імена (ті, що присутні \n",
    "кожного року)\n"
   ]
  },
  {
   "cell_type": "code",
   "execution_count": 17,
   "id": "5d42034f-0fc6-4ba6-ae0b-7238d9e75696",
   "metadata": {},
   "outputs": [
    {
     "name": "stdout",
     "output_type": "stream",
     "text": [
      "Найпопулярніші гендерно-нейтральні імена, присутні у кожному році, в порядку спадання:\n",
      "         Name    Count\n",
      "3710    James  5129096\n",
      "4100     John  5106590\n",
      "7081   Robert  4816785\n",
      "5991  Michael  4330805\n",
      "5807     Mary  4130441\n",
      "...       ...      ...\n",
      "1609   Christ     3686\n",
      "6299   Nevada     3461\n",
      "6727    Price     3386\n",
      "5308     Levy     3116\n",
      "7421     Sena     2694\n",
      "\n",
      "[823 rows x 2 columns]\n"
     ]
    }
   ],
   "source": [
    "# Групуємо дані за роком і ім'ям, щоб отримати кількість появ для кожного імені в кожному році по статям\n",
    "name_gender_count = df.groupby(['Year', 'Name', 'Gender']).size().unstack(fill_value=0)\n",
    "\n",
    "# Фільтруємо ті імена, які зустрічаються як для чоловіків ('M'), так і для жінок ('F') в одному році\n",
    "neutral_names_per_year = name_gender_count[(name_gender_count['M'] > 0) & (name_gender_count['F'] > 0)]\n",
    "\n",
    "# Перетворюємо результат у список унікальних нейтральних імен\n",
    "neutral_names = neutral_names_per_year.index.get_level_values('Name').unique()\n",
    "\n",
    "# Підраховуємо загальну кількість появ для кожного нейтрального імені\n",
    "neutral_names_count = df[df['Name'].isin(neutral_names)].groupby('Name')['Count'].sum().reset_index()\n",
    "\n",
    "# Перевіряємо, які імена присутні в кожному році\n",
    "total_years = df['Year'].nunique()\n",
    "names_in_all_years = df.groupby('Name')['Year'].nunique()  # Кількість років для кожного імені\n",
    "neutral_names_in_all_years = names_in_all_years[names_in_all_years == total_years].index.tolist()  # Імена, які присутні у всіх роках\n",
    "\n",
    "# Фільтруємо результати, щоб включити тільки ті імена, які присутні в кожному році\n",
    "final_neutral_names_count = neutral_names_count[neutral_names_count['Name'].isin(neutral_names_in_all_years)]\n",
    "\n",
    "# Сортуємо за кількістю у порядку спадання\n",
    "neutral_names_sorted = final_neutral_names_count.sort_values(by='Count', ascending=False)\n",
    "\n",
    "# Виводимо результат\n",
    "print(\"Найпопулярніші гендерно-нейтральні імена, присутні у кожному році, в порядку спадання:\")\n",
    "print(neutral_names_sorted)\n"
   ]
  },
  {
   "cell_type": "markdown",
   "id": "d2ee1cb4-03af-4c10-8815-34dac6848709",
   "metadata": {},
   "source": [
    "\n",
    "### Завдання 24\n",
    "Знайти найпопулярніше серед непопулярних імен (непопулярне ім’я, \n",
    "яким називали дітей найбільшу кількість разів )\n",
    "\n"
   ]
  },
  {
   "cell_type": "code",
   "execution_count": 10,
   "id": "7bb16633-4be2-42b0-aa36-ca807415be1f",
   "metadata": {},
   "outputs": [
    {
     "name": "stdout",
     "output_type": "stream",
     "text": [
      "Найпопулярніше серед непопулярних імен: Aabid\n"
     ]
    }
   ],
   "source": [
    "unpopular_names = df.groupby('Name')['Count'].sum().nsmallest(10).index.tolist()\n",
    "most_popular_among_unpopular = df[df['Name'].isin(unpopular_names)].groupby('Name')['Count'].sum().idxmax()\n",
    "print(f\"Найпопулярніше серед непопулярних імен: {most_popular_among_unpopular}\")"
   ]
  },
  {
   "cell_type": "markdown",
   "id": "3f2df619-550a-4f31-83bf-39d169d3d9fe",
   "metadata": {},
   "source": [
    "\n",
    "### Завдання 26\n",
    "Побудувати графіки розподілення кількості жіночих імен John та \n",
    "чоловічих імен Mary по роках."
   ]
  },
  {
   "cell_type": "code",
   "execution_count": 11,
   "id": "a0aa9b19-c50d-47bc-8fbf-63a904da56ee",
   "metadata": {},
   "outputs": [
    {
     "data": {
      "image/png": "[encoded data removed]",
      "text/plain": [
       "<Figure size 1000x500 with 1 Axes>"
      ]
     },
     "metadata": {},
     "output_type": "display_data"
    }
   ],
   "source": [
    "import matplotlib.pyplot as plt\n",
    "\n",
    "john_female = df[(df['Name'] == 'John') & (df['Gender'] == 'F')].groupby('Year')['Count'].sum()\n",
    "mary_male = df[(df['Name'] == 'Mary') & (df['Gender'] == 'M')].groupby('Year')['Count'].sum()\n",
    "\n",
    "plt.figure(figsize=(10, 5))\n",
    "plt.plot(john_female.index, john_female.values, label='Жіноче ім\\'я John')\n",
    "plt.plot(mary_male.index, mary_male.values, label='Чоловіче ім\\'я Mary')\n",
    "plt.xlabel('Рік')\n",
    "plt.ylabel('Кількість')\n",
    "plt.title('Кількість жіночих імен John та чоловічих імен Mary по роках')\n",
    "plt.legend()\n",
    "plt.show()"
   ]
  },
  {
   "cell_type": "code",
   "execution_count": null,
   "id": "ef8fa349-07e0-410a-aa78-839c10ea3f0e",
   "metadata": {},
   "outputs": [],
   "source": []
  }
 ],
 "metadata": {
  "kernelspec": {
   "display_name": "Python 3 (ipykernel)",
   "language": "python",
   "name": "python3"
  },
  "language_info": {
   "codemirror_mode": {
    "name": "ipython",
    "version": 3
   },
   "file_extension": ".py",
   "mimetype": "text/x-python",
   "name": "python",
   "nbconvert_exporter": "python",
   "pygments_lexer": "ipython3",
   "version": "3.12.5"
  }
 },
 "nbformat": 4,
 "nbformat_minor": 5
}
