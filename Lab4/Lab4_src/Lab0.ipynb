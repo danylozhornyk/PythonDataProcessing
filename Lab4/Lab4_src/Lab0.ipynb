{
 "cells": [
  {
   "cell_type": "markdown",
   "id": "82405116-b84f-4896-a871-a13d688b1782",
   "metadata": {},
   "source": [
    "# Лабораторна робота №0\n",
    "## виконав \n",
    "## Жорник Данило \n",
    "## студент групи КН-223с"
   ]
  },
  {
   "cell_type": "code",
   "execution_count": 8,
   "id": "6b9823fb-0ec2-43f3-b2f9-d7b3594f7d40",
   "metadata": {},
   "outputs": [
    {
     "name": "stdout",
     "output_type": "stream",
     "text": [
      "1\n"
     ]
    }
   ],
   "source": [
    "N = ord('Z') % 10 + 1\n",
    "print(N)"
   ]
  },
  {
   "cell_type": "markdown",
   "id": "77425805-9ff7-4109-9720-4de159a948f1",
   "metadata": {},
   "source": [
    "## Варіант 1\n",
    "\n",
    "### Завдання № 4 \n",
    "### Інформація про країну (Греція)"
   ]
  },
  {
   "cell_type": "markdown",
   "id": "65f53cc3-7895-4ac5-aef3-90f67e4eb191",
   "metadata": {},
   "source": [
    "# Греція\n",
    "\n",
    "<div style=\"border: 2px solid black; padding: 10px;\">\n",
    "  \n",
    "## Загальна інформація\n",
    "\n",
    "**Греція** — країна на південному сході Європи, розташована на Балканському півострові та численних островах Егейського та Іонічного морів. Вона відома своєю багатою історією, культурною спадщиною та архітектурними пам’ятками.\n",
    "\n",
    "### Площа та населення\n",
    "\n",
    "- **Площа**: 131,957 км²  \n",
    "- **Населення**: ~10.4 мільйони (станом на 2023 рік)\n",
    "\n",
    "## Державний устрій\n",
    "\n",
    "- **Тип**: Парламентська республіка\n",
    "- **Столиця**: Афіни\n",
    "- **Офіційна мова**: грецька\n",
    "- **Валюта**: євро (€)\n",
    "\n",
    "</div>\n",
    "\n",
    "---\n",
    "\n",
    "## Визначні пам’ятки\n",
    "\n",
    "- **Культурні пам'ятки:**\n",
    "  - **Акрополь в Афінах**\n",
    "  - **Храм Зевса Олімпійського**\n",
    "  \n",
    "- **Природні пам'ятки:**\n",
    "  - **Острів Санторіні**\n",
    "  - **Гора Олімп**\n",
    "\n",
    "---\n",
    "\n",
    "<div style=\"color: blue; border: 2px solid green; padding: 10px;\">\n",
    "\n",
    "## Видатні персоналії\n",
    "\n",
    "1. **Сократ** — філософ, основоположник західної філософії.\n",
    "2. **Аристотель** — учений, філософ.\n",
    "3. **Александр Македонський** — великий полководець, завойовник.\n",
    "4. **Мікеліс Гінакос** — сучасний грецький композитор.\n",
    "\n",
    "</div>\n",
    "\n",
    "---\n",
    "\n",
    "## Таблиця основних показників\n",
    "\n",
    "| Показник           | Значення                  |\n",
    "|--------------------|---------------------------|\n",
    "| Столиця            | Афіни                     |\n",
    "| Площа              | 131,957 км²               |\n",
    "| Населення          | ~10.4 млн                 |\n",
    "| Офіційна мова      | грецька                   |\n",
    "| Валюта             | євро (€)                  |\n",
    "\n",
    "---\n",
    "\n",
    "## Вкладений список\n",
    "\n",
    "1. **Туризм**\n",
    "    - Острів Крит\n",
    "    - Метеори\n",
    "2. **Кухня**\n",
    "    - Мусака\n",
    "    - Грецький салат\n",
    "\n",
    "---\n",
    "\n",
    "## Картинки\n",
    "\n",
    "![Акрополь в Афінах](https://tripmydream.cc/travelhub/travel/block_gallery/10/6558/gallery_first_106558.jpg)\n",
    "![Греція - Акрополь](./acropolis.jpg)\n",
    "\n",
    "---\n",
    "\n",
    "## Гіперпосилання\n",
    "\n",
    "[Більше про Грецію на Wikipedia](https://uk.wikipedia.org/wiki/%D0%93%D1%80%D0%B5%D1%86%D1%96%D1%8F)\n"
   ]
  },
  {
   "cell_type": "code",
   "execution_count": 17,
   "id": "aa97d52b-8580-4798-b796-bbde10e96a0f",
   "metadata": {},
   "outputs": [
    {
     "data": {
      "text/html": [
       "<h1>Прапор Греції</h1>\n",
       "<svg width=\"500\" height=\"300\" xmlns=\"http://www.w3.org/2000/svg\">\n",
       "  <!-- Синій фон -->\n",
       "  <rect width=\"500\" height=\"300\" fill=\"#0d5eaf\"/>\n",
       "  \n",
       "  <!-- Білі горизонтальні смуги -->\n",
       "  <rect y=\"30\" width=\"500\" height=\"30\" fill=\"white\"/>\n",
       "  <rect y=\"90\" width=\"500\" height=\"30\" fill=\"white\"/>\n",
       "  <rect y=\"150\" width=\"500\" height=\"30\" fill=\"white\"/>\n",
       "  <rect y=\"210\" width=\"500\" height=\"30\" fill=\"white\"/>\n",
       "  \n",
       "  <!-- Білі вертикальні смуги у квадраті -->\n",
       "  <rect width=\"150\" height=\"150\" fill=\"#0d5eaf\"/>\n",
       "  <rect x=\"60\" width=\"30\" height=\"150\" fill=\"white\"/>\n",
       "  <rect y=\"60\" width=\"150\" height=\"30\" fill=\"white\"/>\n",
       "</svg>\n"
      ],
      "text/plain": [
       "<IPython.core.display.HTML object>"
      ]
     },
     "metadata": {},
     "output_type": "display_data"
    }
   ],
   "source": [
    "%%HTML\n",
    "<h1>Прапор Греції</h1>\n",
    "<svg width=\"500\" height=\"300\" xmlns=\"http://www.w3.org/2000/svg\">\n",
    "  <!-- Синій фон -->\n",
    "  <rect width=\"500\" height=\"300\" fill=\"#0d5eaf\"/>\n",
    "  \n",
    "  <!-- Білі горизонтальні смуги -->\n",
    "  <rect y=\"30\" width=\"500\" height=\"30\" fill=\"white\"/>\n",
    "  <rect y=\"90\" width=\"500\" height=\"30\" fill=\"white\"/>\n",
    "  <rect y=\"150\" width=\"500\" height=\"30\" fill=\"white\"/>\n",
    "  <rect y=\"210\" width=\"500\" height=\"30\" fill=\"white\"/>\n",
    "  \n",
    "  <!-- Білі вертикальні смуги у квадраті -->\n",
    "  <rect width=\"150\" height=\"150\" fill=\"#0d5eaf\"/>\n",
    "  <rect x=\"60\" width=\"30\" height=\"150\" fill=\"white\"/>\n",
    "  <rect y=\"60\" width=\"150\" height=\"30\" fill=\"white\"/>\n",
    "</svg>\n"
   ]
  },
  {
   "cell_type": "markdown",
   "id": "fa7b9184-4bef-402b-8ccb-0091bb1e9cbb",
   "metadata": {},
   "source": [
    "### Завдання № 5 \n",
    "### Реалізація алгоритму"
   ]
  },
  {
   "cell_type": "code",
   "execution_count": 22,
   "id": "f018579e-2388-4210-9747-5eb3af79cc99",
   "metadata": {},
   "outputs": [
    {
     "name": "stdout",
     "output_type": "stream",
     "text": [
      "Число повинно бути парним і більше за 2\n",
      "Число 6 можна представити як 3 + 3\n",
      "Число 28 можна представити як 5 + 23\n"
     ]
    }
   ],
   "source": [
    "def is_prime(n):\n",
    "    \"\"\"Перевірка, чи є число простим\"\"\"\n",
    "    if n <= 1:\n",
    "        return False\n",
    "    for i in range(2, int(n**0.5) + 1):\n",
    "        if n % i == 0:\n",
    "            return False\n",
    "    return True\n",
    "\n",
    "def task_5(n):\n",
    "    \"\"\"Реалізація гіпотези Гольдбаха для парного числа n\"\"\"\n",
    "    if n % 2 != 0 or n <= 2:\n",
    "        return \"Число повинно бути парним і більше за 2\"\n",
    "    \n",
    "    for i in range(2, n):\n",
    "        if is_prime(i) and is_prime(n - i):\n",
    "            return i, n - i\n",
    "    \n",
    "    return \"Гіпотеза Гольдбаха не виконується для цього числа\"\n",
    "\n",
    "# Приклад використання\n",
    "print(task_5(2))\n",
    "\n",
    "k = 6\n",
    "resultk = task_5(k)\n",
    "print(f\"Число {k} можна представити як {resultk[0]} + {resultk[1]}\")\n",
    "\n",
    "n = 28\n",
    "resultn = task_5(n)\n",
    "print(f\"Число {n} можна представити як {resultn[0]} + {resultn[1]}\")\n"
   ]
  },
  {
   "cell_type": "code",
   "execution_count": null,
   "id": "df942d75-fb48-4a8e-b5c4-d72e7701e768",
   "metadata": {},
   "outputs": [],
   "source": []
  }
 ],
 "metadata": {
  "kernelspec": {
   "display_name": "Python 3 (ipykernel)",
   "language": "python",
   "name": "python3"
  },
  "language_info": {
   "codemirror_mode": {
    "name": "ipython",
    "version": 3
   },
   "file_extension": ".py",
   "mimetype": "text/x-python",
   "name": "python",
   "nbconvert_exporter": "python",
   "pygments_lexer": "ipython3",
   "version": "3.12.5"
  }
 },
 "nbformat": 4,
 "nbformat_minor": 5
}
